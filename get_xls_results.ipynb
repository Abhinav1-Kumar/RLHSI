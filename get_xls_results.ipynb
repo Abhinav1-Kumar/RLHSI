{
 "cells": [
  {
   "cell_type": "markdown",
   "metadata": {},
   "source": [
    "本脚本用于HDCNN进行对比实验"
   ]
  },
  {
   "cell_type": "code",
   "execution_count": null,
   "metadata": {},
   "outputs": [
    {
     "name": "stdout",
     "output_type": "stream",
     "text": [
      "10776\n",
      "108\n",
      "Finished!\n",
      "512\n",
      "cpu\n",
      "Start training...\n",
      "[50,   101] loss: 1.1805585  | loss_wrt: 0.16590  | loss_unl: 0.19426  | learning_rate: 0.00050\n"
     ]
    }
   ],
   "source": [
    "#count results\n",
    "data_name = \"Indian_pines\"\n",
    "###################################\n",
    "from evaluate_ss import RET\n",
    "results =[]\n",
    "for i in range(5):\n",
    "    !python get_prefile_ss.py --data_name \"Indian_pines\" --pt 0.05 --pv 0.10\n",
    "    !python train_evalnet_ss_v2.py --data_name \"Indian_pines\" \n",
    "    !python A3C_main.py --data_name \"Indian_pines\" --num_band_selection 100 --eval_net_path \"./checkpoint/Indian_pines.t7\" -- out_put_path \"./output/Indian_pines\"\n",
    "    model = RET(data_name)\n",
    "    results.append(model.results)"
   ]
  },
  {
   "cell_type": "code",
   "execution_count": null,
   "metadata": {},
   "outputs": [],
   "source": [
    "!pip install torchvision"
   ]
  },
  {
   "cell_type": "code",
   "execution_count": null,
   "metadata": {},
   "outputs": [
    {
     "name": "stdout",
     "output_type": "stream",
     "text": [
      "164624\n",
      "1646\n",
      "Finished!\n",
      "1282\n",
      "cpu\n",
      "Start training...\n",
      "[20,   101] loss: 0.6787458  | loss_wrt: 0.10077  | loss_unl: 0.10978  | learning_rate: 0.00050\n",
      "OA: 0.9161  | AA:  0.8627  | Kappa:  0.8884  | Time: 87.2\n"
     ]
    }
   ],
   "source": [
    "\n",
    "###################################\n",
    "from evaluate_ss import RET\n",
    "results =[]\n",
    "for i in range(5):\n",
    "    !python get_prefile_ss.py --data_name \"PaviaU\" --pt 0.03 --pv 0.06\n",
    "    !python train_evalnet_ss_v2.py --data_name \"PaviaU\" \n",
    "    !python A3C_main.py --data_name \"PaviaU\" --num_band_selection 60 --eval_net_path \"./checkpoint/PaviaU.t7\" -- out_put_path \"./output/PaviaU\"\n",
    "    model = RET(data_name)\n",
    "    results.append(model.results)\n",
    "import numpy as np\n",
    "results = np.array(results)\n",
    "avarage = results.mean(axis=0)*100\n",
    "std = results.std(axis=0)*100\n",
    "avg = [\"%.1f±%.1f\"%(avarage[i],std[i])for i in range(avarage.shape[0])]\n",
    "import xlwt\n",
    "import time\n",
    "#创建一个Workbook对象，相当于创建了一个Excel文件\n",
    "book=xlwt.Workbook(encoding=\"utf-8\",style_compression=0)\n",
    "sheet = book.add_sheet(data_name, cell_overwrite_ok=True)\n",
    "clo_0 = [\"OA\",\"AA\",\"Kappa\"]+list(range(16))\n",
    "row_o = [data_name]+list(range(5))+[\"avg\"]\n",
    "for i in range(len(row_o)):\n",
    "    sheet.write(0, i,row_o[i])\n",
    "for j in range(len(clo_0)):\n",
    "    sheet.write(j+1, 0,clo_0[j])\n",
    "for i in range(len(results)):\n",
    "    for j in range(len(results[0])):\n",
    "        sheet.write(j+1, i+1,results[i][j])\n",
    "for j in range(len(results[0])):\n",
    "    sheet.write(j+1,6,avg[j])\n",
    "book.save(data_name+\"_BSRL_\"+avg[0]+'.xls')\n",
    "\n",
    "\n"
   ]
  },
  {
   "cell_type": "code",
   "execution_count": 2,
   "metadata": {},
   "outputs": [
    {
     "name": "stdout",
     "output_type": "stream",
     "text": [
      "Traceback (most recent call last):\n",
      "  File \"/opt/anaconda3/lib/python3.12/site-packages/scipy/io/matlab/_mio.py\", line 39, in _open_file\n",
      "    return open(file_like, mode), True\n",
      "           ^^^^^^^^^^^^^^^^^^^^^\n",
      "FileNotFoundError: [Errno 2] No such file or directory: '/Users/abhinavkumar/Desktop/IITG/SEM7/DL/RLSBS/波段选择_A3C_固定波段/data/Houston/Houstondata.mat'\n",
      "\n",
      "During handling of the above exception, another exception occurred:\n",
      "\n",
      "Traceback (most recent call last):\n",
      "  File \"/Users/abhinavkumar/Desktop/IITG/SEM7/DL/RLSBS/波段选择_A3C_固定波段/get_prefile_ss.py\", line 161, in <module>\n",
      "    data_ori, labels_ori = readData(data_name)\n",
      "                           ^^^^^^^^^^^^^^^^^^^\n",
      "  File \"/Users/abhinavkumar/Desktop/IITG/SEM7/DL/RLSBS/波段选择_A3C_固定波段/get_prefile_ss.py\", line 45, in readData\n",
      "    data = sio.loadmat(path+'/Houstondata.mat')['Houstondata']\n",
      "           ^^^^^^^^^^^^^^^^^^^^^^^^^^^^^^^^^^^^\n",
      "  File \"/opt/anaconda3/lib/python3.12/site-packages/scipy/io/matlab/_mio.py\", line 225, in loadmat\n",
      "    with _open_file_context(file_name, appendmat) as f:\n",
      "  File \"/opt/anaconda3/lib/python3.12/contextlib.py\", line 137, in __enter__\n",
      "    return next(self.gen)\n",
      "           ^^^^^^^^^^^^^^\n",
      "  File \"/opt/anaconda3/lib/python3.12/site-packages/scipy/io/matlab/_mio.py\", line 17, in _open_file_context\n",
      "    f, opened = _open_file(file_like, appendmat, mode)\n",
      "                ^^^^^^^^^^^^^^^^^^^^^^^^^^^^^^^^^^^^^^\n",
      "  File \"/opt/anaconda3/lib/python3.12/site-packages/scipy/io/matlab/_mio.py\", line 45, in _open_file\n",
      "    return open(file_like, mode), True\n",
      "           ^^^^^^^^^^^^^^^^^^^^^\n",
      "FileNotFoundError: [Errno 2] No such file or directory: '/Users/abhinavkumar/Desktop/IITG/SEM7/DL/RLSBS/波段选择_A3C_固定波段/data/Houston/Houstondata.mat'\n",
      "Traceback (most recent call last):\n",
      "  File \"/opt/anaconda3/lib/python3.12/site-packages/scipy/io/matlab/_mio.py\", line 39, in _open_file\n",
      "    return open(file_like, mode), True\n",
      "           ^^^^^^^^^^^^^^^^^^^^^\n",
      "FileNotFoundError: [Errno 2] No such file or directory: '/Users/abhinavkumar/Desktop/IITG/SEM7/DL/RLSBS/波段选择_A3C_固定波段/data/Houston/Houston_pre.mat'\n",
      "\n",
      "During handling of the above exception, another exception occurred:\n",
      "\n",
      "Traceback (most recent call last):\n",
      "  File \"/Users/abhinavkumar/Desktop/IITG/SEM7/DL/RLSBS/波段选择_A3C_固定波段/train_evalnet_ss_v2.py\", line 57, in <module>\n",
      "    data_norm, labels_ori, y_train, train_loc, y_test, test_loc, y_val, val_loc, _ = load_data(\n",
      "                                                                                     ^^^^^^^^^^\n",
      "  File \"/Users/abhinavkumar/Desktop/IITG/SEM7/DL/RLSBS/波段选择_A3C_固定波段/processing_library.py\", line 21, in load_data\n",
      "    pre = sio.loadmat(path + '/data/' + data_name + '/' + data_name + '_pre.mat')\n",
      "          ^^^^^^^^^^^^^^^^^^^^^^^^^^^^^^^^^^^^^^^^^^^^^^^^^^^^^^^^^^^^^^^^^^^^^^^\n",
      "  File \"/opt/anaconda3/lib/python3.12/site-packages/scipy/io/matlab/_mio.py\", line 225, in loadmat\n",
      "    with _open_file_context(file_name, appendmat) as f:\n",
      "  File \"/opt/anaconda3/lib/python3.12/contextlib.py\", line 137, in __enter__\n",
      "    return next(self.gen)\n",
      "           ^^^^^^^^^^^^^^\n",
      "  File \"/opt/anaconda3/lib/python3.12/site-packages/scipy/io/matlab/_mio.py\", line 17, in _open_file_context\n",
      "    f, opened = _open_file(file_like, appendmat, mode)\n",
      "                ^^^^^^^^^^^^^^^^^^^^^^^^^^^^^^^^^^^^^^\n",
      "  File \"/opt/anaconda3/lib/python3.12/site-packages/scipy/io/matlab/_mio.py\", line 45, in _open_file\n",
      "    return open(file_like, mode), True\n",
      "           ^^^^^^^^^^^^^^^^^^^^^\n",
      "FileNotFoundError: [Errno 2] No such file or directory: '/Users/abhinavkumar/Desktop/IITG/SEM7/DL/RLSBS/波段选择_A3C_固定波段/data/Houston/Houston_pre.mat'\n",
      "Traceback (most recent call last):\n",
      "  File \"/opt/anaconda3/lib/python3.12/site-packages/scipy/io/matlab/_mio.py\", line 39, in _open_file\n",
      "    return open(file_like, mode), True\n",
      "           ^^^^^^^^^^^^^^^^^^^^^\n",
      "FileNotFoundError: [Errno 2] No such file or directory: '/Users/abhinavkumar/Desktop/IITG/SEM7/DL/RLSBS/波段选择_A3C_固定波段/data/Houston/Houston_pre.mat'\n",
      "\n",
      "During handling of the above exception, another exception occurred:\n",
      "\n",
      "Traceback (most recent call last):\n",
      "  File \"/Users/abhinavkumar/Desktop/IITG/SEM7/DL/RLSBS/波段选择_A3C_固定波段/A3C_main.py\", line 61, in <module>\n",
      "    data_norm, labels_ori, y_train, train_loc, y_test, test_loc, y_val, val_loc, ulab_loc = load_data(\n",
      "                                                                                            ^^^^^^^^^^\n",
      "  File \"/Users/abhinavkumar/Desktop/IITG/SEM7/DL/RLSBS/波段选择_A3C_固定波段/processing_library.py\", line 21, in load_data\n",
      "    pre = sio.loadmat(path + '/data/' + data_name + '/' + data_name + '_pre.mat')\n",
      "          ^^^^^^^^^^^^^^^^^^^^^^^^^^^^^^^^^^^^^^^^^^^^^^^^^^^^^^^^^^^^^^^^^^^^^^^\n",
      "  File \"/opt/anaconda3/lib/python3.12/site-packages/scipy/io/matlab/_mio.py\", line 225, in loadmat\n",
      "    with _open_file_context(file_name, appendmat) as f:\n",
      "  File \"/opt/anaconda3/lib/python3.12/contextlib.py\", line 137, in __enter__\n",
      "    return next(self.gen)\n",
      "           ^^^^^^^^^^^^^^\n",
      "  File \"/opt/anaconda3/lib/python3.12/site-packages/scipy/io/matlab/_mio.py\", line 17, in _open_file_context\n",
      "    f, opened = _open_file(file_like, appendmat, mode)\n",
      "                ^^^^^^^^^^^^^^^^^^^^^^^^^^^^^^^^^^^^^^\n",
      "  File \"/opt/anaconda3/lib/python3.12/site-packages/scipy/io/matlab/_mio.py\", line 45, in _open_file\n",
      "    return open(file_like, mode), True\n",
      "           ^^^^^^^^^^^^^^^^^^^^^\n",
      "FileNotFoundError: [Errno 2] No such file or directory: '/Users/abhinavkumar/Desktop/IITG/SEM7/DL/RLSBS/波段选择_A3C_固定波段/data/Houston/Houston_pre.mat'\n"
     ]
    },
    {
     "ename": "FileNotFoundError",
     "evalue": "[Errno 2] No such file or directory: '/Users/abhinavkumar/Desktop/IITG/SEM7/DL/RLSBS/波段选择_A3C_固定波段/data/Houston/Houston_pre.mat'",
     "output_type": "error",
     "traceback": [
      "\u001b[0;31m---------------------------------------------------------------------------\u001b[0m",
      "\u001b[0;31mFileNotFoundError\u001b[0m                         Traceback (most recent call last)",
      "File \u001b[0;32m/opt/anaconda3/lib/python3.12/site-packages/scipy/io/matlab/_mio.py:39\u001b[0m, in \u001b[0;36m_open_file\u001b[0;34m(file_like, appendmat, mode)\u001b[0m\n\u001b[1;32m     38\u001b[0m \u001b[38;5;28;01mtry\u001b[39;00m:\n\u001b[0;32m---> 39\u001b[0m     \u001b[38;5;28;01mreturn\u001b[39;00m \u001b[38;5;28mopen\u001b[39m(file_like, mode), \u001b[38;5;28;01mTrue\u001b[39;00m\n\u001b[1;32m     40\u001b[0m \u001b[38;5;28;01mexcept\u001b[39;00m \u001b[38;5;167;01mOSError\u001b[39;00m \u001b[38;5;28;01mas\u001b[39;00m e:\n\u001b[1;32m     41\u001b[0m     \u001b[38;5;66;03m# Probably \"not found\"\u001b[39;00m\n",
      "\u001b[0;31mFileNotFoundError\u001b[0m: [Errno 2] No such file or directory: '/Users/abhinavkumar/Desktop/IITG/SEM7/DL/RLSBS/波段选择_A3C_固定波段/data/Houston/Houston_pre.mat'",
      "\nDuring handling of the above exception, another exception occurred:\n",
      "\u001b[0;31mFileNotFoundError\u001b[0m                         Traceback (most recent call last)",
      "Cell \u001b[0;32mIn[2], line 10\u001b[0m\n\u001b[1;32m      8\u001b[0m     get_ipython()\u001b[38;5;241m.\u001b[39msystem(\u001b[38;5;124m'\u001b[39m\u001b[38;5;124mpython train_evalnet_ss_v2.py --data_name \u001b[39m\u001b[38;5;124m\"\u001b[39m\u001b[38;5;124mHouston\u001b[39m\u001b[38;5;124m\"\u001b[39m\u001b[38;5;124m'\u001b[39m)\n\u001b[1;32m      9\u001b[0m     get_ipython()\u001b[38;5;241m.\u001b[39msystem(\u001b[38;5;124m'\u001b[39m\u001b[38;5;124mpython A3C_main.py --data_name \u001b[39m\u001b[38;5;124m\"\u001b[39m\u001b[38;5;124mHouston\u001b[39m\u001b[38;5;124m\"\u001b[39m\u001b[38;5;124m --num_band_selection 80 --eval_net_path \u001b[39m\u001b[38;5;124m\"\u001b[39m\u001b[38;5;124m./checkpoint/Houston.t7\u001b[39m\u001b[38;5;124m\"\u001b[39m\u001b[38;5;124m -- out_put_path \u001b[39m\u001b[38;5;124m\"\u001b[39m\u001b[38;5;124m./output/Houston\u001b[39m\u001b[38;5;124m\"\u001b[39m\u001b[38;5;124m'\u001b[39m)\n\u001b[0;32m---> 10\u001b[0m     model \u001b[38;5;241m=\u001b[39m RET(data_name)\n\u001b[1;32m     11\u001b[0m     results\u001b[38;5;241m.\u001b[39mappend(model\u001b[38;5;241m.\u001b[39mresults)\n\u001b[1;32m     12\u001b[0m \u001b[38;5;28;01mimport\u001b[39;00m \u001b[38;5;21;01mnumpy\u001b[39;00m \u001b[38;5;28;01mas\u001b[39;00m \u001b[38;5;21;01mnp\u001b[39;00m\n",
      "File \u001b[0;32m~/Desktop/IITG/SEM7/DL/RLSBS/波段选择_A3C_固定波段/evaluate_ss.py:57\u001b[0m, in \u001b[0;36mRET.__init__\u001b[0;34m(self, data_name)\u001b[0m\n\u001b[1;32m     56\u001b[0m \u001b[38;5;28;01mdef\u001b[39;00m \u001b[38;5;21m__init__\u001b[39m(\u001b[38;5;28mself\u001b[39m,data_name \u001b[38;5;241m=\u001b[39m \u001b[38;5;124m\"\u001b[39m\u001b[38;5;124mIndian_pines\u001b[39m\u001b[38;5;124m\"\u001b[39m, ):\n\u001b[0;32m---> 57\u001b[0m     data_norm, labels_ori, y_train, train_loc, y_test, test_loc, y_val, val_loc, _ \u001b[38;5;241m=\u001b[39m load_data(\n\u001b[1;32m     58\u001b[0m         data_name)\n\u001b[1;32m     59\u001b[0m     ulab_loc \u001b[38;5;241m=\u001b[39m val_loc  \u001b[38;5;66;03m# Caution！\u001b[39;00m\n\u001b[1;32m     60\u001b[0m     \u001b[38;5;28mprint\u001b[39m(\u001b[38;5;241m2\u001b[39m)\n",
      "File \u001b[0;32m~/Desktop/IITG/SEM7/DL/RLSBS/波段选择_A3C_固定波段/processing_library.py:21\u001b[0m, in \u001b[0;36mload_data\u001b[0;34m(data_name)\u001b[0m\n\u001b[1;32m     19\u001b[0m \u001b[38;5;250m\u001b[39m\u001b[38;5;124;03m'''读取数据'''\u001b[39;00m\n\u001b[1;32m     20\u001b[0m path \u001b[38;5;241m=\u001b[39m os\u001b[38;5;241m.\u001b[39mgetcwd()\n\u001b[0;32m---> 21\u001b[0m pre \u001b[38;5;241m=\u001b[39m sio\u001b[38;5;241m.\u001b[39mloadmat(path \u001b[38;5;241m+\u001b[39m \u001b[38;5;124m'\u001b[39m\u001b[38;5;124m/data/\u001b[39m\u001b[38;5;124m'\u001b[39m \u001b[38;5;241m+\u001b[39m data_name \u001b[38;5;241m+\u001b[39m \u001b[38;5;124m'\u001b[39m\u001b[38;5;124m/\u001b[39m\u001b[38;5;124m'\u001b[39m \u001b[38;5;241m+\u001b[39m data_name \u001b[38;5;241m+\u001b[39m \u001b[38;5;124m'\u001b[39m\u001b[38;5;124m_pre.mat\u001b[39m\u001b[38;5;124m'\u001b[39m)\n\u001b[1;32m     23\u001b[0m data_norm \u001b[38;5;241m=\u001b[39m pre[\u001b[38;5;124m'\u001b[39m\u001b[38;5;124mdata_norm\u001b[39m\u001b[38;5;124m'\u001b[39m]\n\u001b[1;32m     24\u001b[0m labels_ori \u001b[38;5;241m=\u001b[39m pre[\u001b[38;5;124m'\u001b[39m\u001b[38;5;124mlabels_ori\u001b[39m\u001b[38;5;124m'\u001b[39m]\n",
      "File \u001b[0;32m/opt/anaconda3/lib/python3.12/site-packages/scipy/io/matlab/_mio.py:225\u001b[0m, in \u001b[0;36mloadmat\u001b[0;34m(file_name, mdict, appendmat, **kwargs)\u001b[0m\n\u001b[1;32m     88\u001b[0m \u001b[38;5;250m\u001b[39m\u001b[38;5;124;03m\"\"\"\u001b[39;00m\n\u001b[1;32m     89\u001b[0m \u001b[38;5;124;03mLoad MATLAB file.\u001b[39;00m\n\u001b[1;32m     90\u001b[0m \n\u001b[0;32m   (...)\u001b[0m\n\u001b[1;32m    222\u001b[0m \u001b[38;5;124;03m    3.14159265+3.14159265j])\u001b[39;00m\n\u001b[1;32m    223\u001b[0m \u001b[38;5;124;03m\"\"\"\u001b[39;00m\n\u001b[1;32m    224\u001b[0m variable_names \u001b[38;5;241m=\u001b[39m kwargs\u001b[38;5;241m.\u001b[39mpop(\u001b[38;5;124m'\u001b[39m\u001b[38;5;124mvariable_names\u001b[39m\u001b[38;5;124m'\u001b[39m, \u001b[38;5;28;01mNone\u001b[39;00m)\n\u001b[0;32m--> 225\u001b[0m \u001b[38;5;28;01mwith\u001b[39;00m _open_file_context(file_name, appendmat) \u001b[38;5;28;01mas\u001b[39;00m f:\n\u001b[1;32m    226\u001b[0m     MR, _ \u001b[38;5;241m=\u001b[39m mat_reader_factory(f, \u001b[38;5;241m*\u001b[39m\u001b[38;5;241m*\u001b[39mkwargs)\n\u001b[1;32m    227\u001b[0m     matfile_dict \u001b[38;5;241m=\u001b[39m MR\u001b[38;5;241m.\u001b[39mget_variables(variable_names)\n",
      "File \u001b[0;32m/opt/anaconda3/lib/python3.12/contextlib.py:137\u001b[0m, in \u001b[0;36m_GeneratorContextManager.__enter__\u001b[0;34m(self)\u001b[0m\n\u001b[1;32m    135\u001b[0m \u001b[38;5;28;01mdel\u001b[39;00m \u001b[38;5;28mself\u001b[39m\u001b[38;5;241m.\u001b[39margs, \u001b[38;5;28mself\u001b[39m\u001b[38;5;241m.\u001b[39mkwds, \u001b[38;5;28mself\u001b[39m\u001b[38;5;241m.\u001b[39mfunc\n\u001b[1;32m    136\u001b[0m \u001b[38;5;28;01mtry\u001b[39;00m:\n\u001b[0;32m--> 137\u001b[0m     \u001b[38;5;28;01mreturn\u001b[39;00m \u001b[38;5;28mnext\u001b[39m(\u001b[38;5;28mself\u001b[39m\u001b[38;5;241m.\u001b[39mgen)\n\u001b[1;32m    138\u001b[0m \u001b[38;5;28;01mexcept\u001b[39;00m \u001b[38;5;167;01mStopIteration\u001b[39;00m:\n\u001b[1;32m    139\u001b[0m     \u001b[38;5;28;01mraise\u001b[39;00m \u001b[38;5;167;01mRuntimeError\u001b[39;00m(\u001b[38;5;124m\"\u001b[39m\u001b[38;5;124mgenerator didn\u001b[39m\u001b[38;5;124m'\u001b[39m\u001b[38;5;124mt yield\u001b[39m\u001b[38;5;124m\"\u001b[39m) \u001b[38;5;28;01mfrom\u001b[39;00m \u001b[38;5;28;01mNone\u001b[39;00m\n",
      "File \u001b[0;32m/opt/anaconda3/lib/python3.12/site-packages/scipy/io/matlab/_mio.py:17\u001b[0m, in \u001b[0;36m_open_file_context\u001b[0;34m(file_like, appendmat, mode)\u001b[0m\n\u001b[1;32m     15\u001b[0m \u001b[38;5;129m@contextmanager\u001b[39m\n\u001b[1;32m     16\u001b[0m \u001b[38;5;28;01mdef\u001b[39;00m \u001b[38;5;21m_open_file_context\u001b[39m(file_like, appendmat, mode\u001b[38;5;241m=\u001b[39m\u001b[38;5;124m'\u001b[39m\u001b[38;5;124mrb\u001b[39m\u001b[38;5;124m'\u001b[39m):\n\u001b[0;32m---> 17\u001b[0m     f, opened \u001b[38;5;241m=\u001b[39m _open_file(file_like, appendmat, mode)\n\u001b[1;32m     18\u001b[0m     \u001b[38;5;28;01mtry\u001b[39;00m:\n\u001b[1;32m     19\u001b[0m         \u001b[38;5;28;01myield\u001b[39;00m f\n",
      "File \u001b[0;32m/opt/anaconda3/lib/python3.12/site-packages/scipy/io/matlab/_mio.py:45\u001b[0m, in \u001b[0;36m_open_file\u001b[0;34m(file_like, appendmat, mode)\u001b[0m\n\u001b[1;32m     43\u001b[0m     \u001b[38;5;28;01mif\u001b[39;00m appendmat \u001b[38;5;129;01mand\u001b[39;00m \u001b[38;5;129;01mnot\u001b[39;00m file_like\u001b[38;5;241m.\u001b[39mendswith(\u001b[38;5;124m'\u001b[39m\u001b[38;5;124m.mat\u001b[39m\u001b[38;5;124m'\u001b[39m):\n\u001b[1;32m     44\u001b[0m         file_like \u001b[38;5;241m+\u001b[39m\u001b[38;5;241m=\u001b[39m \u001b[38;5;124m'\u001b[39m\u001b[38;5;124m.mat\u001b[39m\u001b[38;5;124m'\u001b[39m\n\u001b[0;32m---> 45\u001b[0m     \u001b[38;5;28;01mreturn\u001b[39;00m \u001b[38;5;28mopen\u001b[39m(file_like, mode), \u001b[38;5;28;01mTrue\u001b[39;00m\n\u001b[1;32m     46\u001b[0m \u001b[38;5;28;01melse\u001b[39;00m:\n\u001b[1;32m     47\u001b[0m     \u001b[38;5;28;01mraise\u001b[39;00m \u001b[38;5;167;01mOSError\u001b[39;00m(\n\u001b[1;32m     48\u001b[0m         \u001b[38;5;124m'\u001b[39m\u001b[38;5;124mReader needs file name or open file-like object\u001b[39m\u001b[38;5;124m'\u001b[39m\n\u001b[1;32m     49\u001b[0m     ) \u001b[38;5;28;01mfrom\u001b[39;00m \u001b[38;5;21;01me\u001b[39;00m\n",
      "\u001b[0;31mFileNotFoundError\u001b[0m: [Errno 2] No such file or directory: '/Users/abhinavkumar/Desktop/IITG/SEM7/DL/RLSBS/波段选择_A3C_固定波段/data/Houston/Houston_pre.mat'"
     ]
    }
   ],
   "source": [
    "#count results\n",
    "data_name = \"Houston\"\n",
    "###################################\n",
    "from evaluate_ss import RET\n",
    "results =[]\n",
    "for i in range(5):\n",
    "    !python get_prefile_ss.py --data_name \"Houston\" --pt 0.05 --pv 0.10\n",
    "    !python train_evalnet_ss_v2.py --data_name \"Houston\" \n",
    "    !python A3C_main.py --data_name \"Houston\" --num_band_selection 80 --eval_net_path \"./checkpoint/Houston.t7\" -- out_put_path \"./output/Houston\"\n",
    "    model = RET(data_name)\n",
    "    results.append(model.results)\n",
    "import numpy as np\n",
    "results = np.array(results)\n",
    "avarage = results.mean(axis=0)*100\n",
    "std = results.std(axis=0)*100\n",
    "avg = [\"%.1f±%.1f\"%(avarage[i],std[i])for i in range(avarage.shape[0])]\n",
    "import xlwt\n",
    "import time\n",
    "#创建一个Workbook对象，相当于创建了一个Excel文件\n",
    "book=xlwt.Workbook(encoding=\"utf-8\",style_compression=0)\n",
    "sheet = book.add_sheet(data_name, cell_overwrite_ok=True)\n",
    "clo_0 = [\"OA\",\"AA\",\"Kappa\"]+list(range(16))\n",
    "row_o = [data_name]+list(range(5))+[\"avg\"]\n",
    "for i in range(len(row_o)):\n",
    "    sheet.write(0, i,row_o[i])\n",
    "for j in range(len(clo_0)):\n",
    "    sheet.write(j+1, 0,clo_0[j])\n",
    "for i in range(len(results)):\n",
    "    for j in range(len(results[0])):\n",
    "        sheet.write(j+1, i+1,results[i][j])\n",
    "for j in range(len(results[0])):\n",
    "    sheet.write(j+1,6,avg[j])\n",
    "book.save(data_name+\"_BSRL_\"+avg[0]+'.xls')\n"
   ]
  },
  {
   "cell_type": "code",
   "execution_count": null,
   "metadata": {},
   "outputs": [],
   "source": []
  },
  {
   "cell_type": "code",
   "execution_count": null,
   "metadata": {},
   "outputs": [],
   "source": []
  }
 ],
 "metadata": {
  "kernelspec": {
   "display_name": "Python 3 (ipykernel)",
   "language": "python",
   "name": "python3"
  },
  "language_info": {
   "codemirror_mode": {
    "name": "ipython",
    "version": 3
   },
   "file_extension": ".py",
   "mimetype": "text/x-python",
   "name": "python",
   "nbconvert_exporter": "python",
   "pygments_lexer": "ipython3",
   "version": "3.12.7"
  }
 },
 "nbformat": 4,
 "nbformat_minor": 4
}
